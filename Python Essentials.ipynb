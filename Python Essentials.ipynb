{
 "cells": [
  {
   "cell_type": "code",
   "execution_count": 1,
   "id": "e76f5243",
   "metadata": {},
   "outputs": [
    {
     "data": {
      "text/plain": [
       "827240261886336764177"
      ]
     },
     "execution_count": 1,
     "metadata": {},
     "output_type": "execute_result"
    }
   ],
   "source": [
    "17**17\n",
    "#Output is double of value of 827240261886336764177 because square root can also be in not full numbers"
   ]
  },
  {
   "cell_type": "code",
   "execution_count": 2,
   "id": "4fdbf4bc",
   "metadata": {},
   "outputs": [
    {
     "ename": "TypeError",
     "evalue": "unsupported operand type(s) for +: 'int' and 'str'",
     "output_type": "error",
     "traceback": [
      "\u001b[0;31m---------------------------------------------------------------------------\u001b[0m",
      "\u001b[0;31mTypeError\u001b[0m                                 Traceback (most recent call last)",
      "\u001b[0;32m/var/folders/n0/t16244hs7cs_6x3cvcpgz3h40000gn/T/ipykernel_60558/90203172.py\u001b[0m in \u001b[0;36m<module>\u001b[0;34m\u001b[0m\n\u001b[0;32m----> 1\u001b[0;31m \u001b[0mprint\u001b[0m\u001b[0;34m(\u001b[0m\u001b[0;36m81\u001b[0m \u001b[0;34m+\u001b[0m \u001b[0;34m'Forty-two'\u001b[0m\u001b[0;34m)\u001b[0m\u001b[0;34m\u001b[0m\u001b[0;34m\u001b[0m\u001b[0m\n\u001b[0m\u001b[1;32m      2\u001b[0m \u001b[0;31m#TypeError, you cannot so a sum of integer and string\u001b[0m\u001b[0;34m\u001b[0m\u001b[0;34m\u001b[0m\u001b[0m\n",
      "\u001b[0;31mTypeError\u001b[0m: unsupported operand type(s) for +: 'int' and 'str'"
     ]
    }
   ],
   "source": [
    "print(81 + 'Forty-two')\n",
    "#TypeError, you cannot so a sum of integer and string"
   ]
  },
  {
   "cell_type": "code",
   "execution_count": 3,
   "id": "dfaceaf5",
   "metadata": {},
   "outputs": [
    {
     "data": {
      "text/plain": [
       "12.0"
      ]
     },
     "execution_count": 3,
     "metadata": {},
     "output_type": "execute_result"
    }
   ],
   "source": [
    "2 ** 3 / 2 + 8\n",
    "#Output is double of value of 12.0 because we use the square root"
   ]
  },
  {
   "cell_type": "code",
   "execution_count": 4,
   "id": "dc6e281b",
   "metadata": {},
   "outputs": [
    {
     "name": "stdout",
     "output_type": "stream",
     "text": [
      "81 plus 23 equals 104\n",
      "81 divided by 23 equals 3 with a remainder of 12\n"
     ]
    }
   ],
   "source": [
    "x = 81\n",
    "y = 23\n",
    "formatedString = \"{} plus {} equals 104\".format(x, y)\n",
    "formatedString2 = '{} divided by {} equals 3 with a remainder of 12'.format(x, y)\n",
    "print (formatedString)\n",
    "print(formatedString2)\n"
   ]
  },
  {
   "cell_type": "code",
   "execution_count": 5,
   "id": "b27e111f",
   "metadata": {},
   "outputs": [],
   "source": [
    "#Yes, dictionaries are mutable"
   ]
  },
  {
   "cell_type": "code",
   "execution_count": 6,
   "id": "e1edbe89",
   "metadata": {},
   "outputs": [
    {
     "name": "stdout",
     "output_type": "stream",
     "text": [
      "['termites.', 'on', 'mainly', 'feeds', 'that', 'mammal', 'African', 'nocturnal', 'black-striped', 'a']\n"
     ]
    }
   ],
   "source": [
    "my_dictionary = {\n",
    "    'aardvark': 'a nocturnal badger-sized burrowing mammal of Africa, with long ears, a tubular snout, and a long extensible tongue, feeding on ants and termites.',\n",
    "    'aardwolf': 'a black-striped nocturnal African mammal that feeds mainly on termites.',\n",
    "    'abaca': 'a large herbaceous Asian plant of the banana family, yielding Manila hemp.',\n",
    "}\n",
    "reversedDic = dict(reversed(list(my_dictionary.items())))\n",
    "secondDic = (my_dictionary.get('aardwolf')).split()[::-1]\n",
    "\n",
    "print(secondDic)\n",
    "\n"
   ]
  },
  {
   "cell_type": "code",
   "execution_count": 7,
   "id": "380440be",
   "metadata": {},
   "outputs": [
    {
     "name": "stdout",
     "output_type": "stream",
     "text": [
      "42.3\n"
     ]
    }
   ],
   "source": [
    "l = [1, 2, 3.0, 4, 5.5, 5.6, 6, 7, 8.2]\n",
    "print(sum(l))"
   ]
  },
  {
   "cell_type": "code",
   "execution_count": 8,
   "id": "1bab95d7",
   "metadata": {},
   "outputs": [
    {
     "name": "stdout",
     "output_type": "stream",
     "text": [
      "15! = 15\n",
      "*14\n",
      "*13\n",
      "*12\n",
      "*11\n",
      "*10\n",
      "*9\n",
      "*8\n",
      "*7\n",
      "*6\n",
      "*5\n",
      "*4\n",
      "*3\n",
      "*2\n",
      "*1\n"
     ]
    }
   ],
   "source": [
    "factorial = 15\n",
    "i=factorial -1;\n",
    "print(\"{}! = {}\".format(factorial, factorial))\n",
    "for factorial in range(i):\n",
    "    print(\"*{}\".format(i))\n",
    "    i = i-1;"
   ]
  },
  {
   "cell_type": "code",
   "execution_count": 9,
   "id": "f06a7aec",
   "metadata": {},
   "outputs": [
    {
     "name": "stdout",
     "output_type": "stream",
     "text": [
      "0\n",
      "15\n",
      "21\n",
      "30\n",
      "42\n",
      "45\n",
      "60\n",
      "63\n",
      "75\n",
      "84\n",
      "90\n"
     ]
    }
   ],
   "source": [
    "i = 0\n",
    "for i in range(100):\n",
    "    if i%3 ==0:\n",
    "        if i%5 ==0 or i%7==0:\n",
    "            print(i)"
   ]
  },
  {
   "cell_type": "code",
   "execution_count": 10,
   "id": "5a393788",
   "metadata": {},
   "outputs": [
    {
     "data": {
      "text/plain": [
       "True"
      ]
     },
     "execution_count": 10,
     "metadata": {},
     "output_type": "execute_result"
    }
   ],
   "source": [
    "optimus = 12829 \n",
    "def prime_check(n):\n",
    "    for i in range(2, n):\n",
    "        if n%1 ==0 and n%n == 0:\n",
    "            return True\n",
    "    return False\n",
    "prime_check(optimus)"
   ]
  },
  {
   "cell_type": "code",
   "execution_count": 11,
   "id": "7518aa7b",
   "metadata": {},
   "outputs": [
    {
     "name": "stdout",
     "output_type": "stream",
     "text": [
      "[3, 4, 5.0, 8]\n"
     ]
    }
   ],
   "source": [
    "def union_check(listone, listtwo):\n",
    "    listthree =[]\n",
    "    for i in listone:\n",
    "        if i in listtwo:\n",
    "            listthree.append(i)\n",
    "    return listthree\n",
    "list1 = [1, 2, 3, 4, 5.0, 6, 7, 8]\n",
    "list2 = [3, 4, 5, 8, 9, 10.0, 11, 12]\n",
    "list3 = union_check(list1, list2)\n",
    "print(list3)"
   ]
  },
  {
   "cell_type": "code",
   "execution_count": 12,
   "id": "4b28a32f",
   "metadata": {},
   "outputs": [
    {
     "name": "stdout",
     "output_type": "stream",
     "text": [
      "[1, 2, 3, 4]\n"
     ]
    }
   ],
   "source": [
    "def unique(listToCheck):\n",
    "    \n",
    "    uniqueList = [];\n",
    "    for i in listToCheck:\n",
    "        if i not in uniqueList:\n",
    "            uniqueList.append(i)\n",
    "    return uniqueList\n",
    "listus = [1,1,2,3,3,4]\n",
    "print(unique(listus))"
   ]
  },
  {
   "cell_type": "code",
   "execution_count": 13,
   "id": "cdf43d03",
   "metadata": {},
   "outputs": [
    {
     "name": "stdout",
     "output_type": "stream",
     "text": [
      "[78.5, 31.400000000000002]\n"
     ]
    }
   ],
   "source": [
    "def calcSAreaCirc(radius):\n",
    "    area = 3.14*radius**2\n",
    "    circumference = radius*2 * 3.14\n",
    "    return [area, circumference]\n",
    "print(calcSAreaCirc(5))"
   ]
  },
  {
   "cell_type": "code",
   "execution_count": 14,
   "id": "afd0afa7",
   "metadata": {},
   "outputs": [
    {
     "data": {
      "text/plain": [
       "True"
      ]
     },
     "execution_count": 14,
     "metadata": {},
     "output_type": "execute_result"
    }
   ],
   "source": [
    "heelo = \"heelo\"\n",
    "halo = \"halo\"\n",
    "def stringFun(h, n):\n",
    "    for s in h:\n",
    "        if s in n:\n",
    "            return True\n",
    "        return False\n",
    "stringFun(heelo, halo)"
   ]
  },
  {
   "cell_type": "code",
   "execution_count": 15,
   "id": "7150c07d",
   "metadata": {},
   "outputs": [],
   "source": [
    "def prime_check(n):\n",
    "    for i in range(2, n):\n",
    "        if n%1 ==0 and n%n == 0:\n",
    "            return True\n",
    "    return False\n"
   ]
  },
  {
   "cell_type": "code",
   "execution_count": 16,
   "id": "5430971f",
   "metadata": {},
   "outputs": [
    {
     "name": "stdout",
     "output_type": "stream",
     "text": [
      "27\n",
      "26\n",
      "25\n",
      "24\n",
      "23\n",
      "22\n",
      "21\n",
      "20\n",
      "19\n",
      "18\n",
      "17\n",
      "16\n",
      "15\n",
      "14\n",
      "13\n",
      "12\n",
      "11\n",
      "10\n",
      "9\n",
      "8\n",
      "7\n",
      "6\n",
      "5\n",
      "4\n",
      "3\n"
     ]
    }
   ],
   "source": [
    "def prime_check(n):\n",
    "    for i in range(2, n):\n",
    "        if n%1 ==0 and n%n == 0:\n",
    "            return True\n",
    "    return False\n",
    "\n",
    "def primeAndSmaller(n):\n",
    "    listSmaller = []\n",
    "    listPrimes = []\n",
    "    for j in range(n,0,-1):\n",
    "        if prime_check(j):\n",
    "            print(j)\n",
    "  \n",
    "\n",
    "primeAndSmaller(27)\n"
   ]
  },
  {
   "cell_type": "code",
   "execution_count": 17,
   "id": "a37a5c7c",
   "metadata": {},
   "outputs": [],
   "source": [
    "class TwoDMethod:\n",
    "    def __init__(self, x, y):\n",
    "        self.x = x\n",
    "        self.y = y"
   ]
  },
  {
   "cell_type": "code",
   "execution_count": 18,
   "id": "91ce5d09",
   "metadata": {},
   "outputs": [],
   "source": [
    "class TwoDtranslation:\n",
    "    \n",
    "    def __init__(self, dx, dy):\n",
    "        self.dx = dx\n",
    "        self.dy = dy\n",
    "    def transform(self, point):\n",
    "        point.x = point.x + self.dx  \n",
    "        point.y = point.y + self.dy\n"
   ]
  },
  {
   "cell_type": "code",
   "execution_count": 19,
   "id": "f8aafd44",
   "metadata": {},
   "outputs": [],
   "source": [
    "p = TwoDMethod(2,3)\n",
    "trans = TwoDtranslation(3,4)\n",
    "trans.transform(p)\n"
   ]
  }
 ],
 "metadata": {
  "kernelspec": {
   "display_name": "Python 3 (ipykernel)",
   "language": "python",
   "name": "python3"
  },
  "language_info": {
   "codemirror_mode": {
    "name": "ipython",
    "version": 3
   },
   "file_extension": ".py",
   "mimetype": "text/x-python",
   "name": "python",
   "nbconvert_exporter": "python",
   "pygments_lexer": "ipython3",
   "version": "3.9.12"
  }
 },
 "nbformat": 4,
 "nbformat_minor": 5
}
